{
 "cells": [
  {
   "cell_type": "code",
   "execution_count": 1,
   "metadata": {},
   "outputs": [],
   "source": [
    "import pandas as pd\n",
    "import numpy as np\n",
    "from sklearn.feature_extraction.text import TfidfVectorizer\n",
    "from nltk.sentiment import SentimentIntensityAnalyzer\n",
    "\n",
    "# Bước 1: Tải dữ liệu\n",
    "movie_reviews = pd.read_excel('full_movie_reviews.xlsx')  # Đường dẫn file của bạn\n",
    "movie_metadata = pd.read_excel('Films_Data.xlsx')\n"
   ]
  },
  {
   "cell_type": "code",
   "execution_count": 2,
   "metadata": {},
   "outputs": [
    {
     "name": "stdout",
     "output_type": "stream",
     "text": [
      "<class 'pandas.core.frame.DataFrame'>\n",
      "RangeIndex: 65225 entries, 0 to 65224\n",
      "Data columns (total 6 columns):\n",
      " #   Column    Non-Null Count  Dtype  \n",
      "---  ------    --------------  -----  \n",
      " 0   Movie     65225 non-null  object \n",
      " 1   Reviewer  65171 non-null  object \n",
      " 2   Rating    60573 non-null  float64\n",
      " 3   Review    57682 non-null  object \n",
      " 4   Likes     64963 non-null  float64\n",
      " 5   Dislikes  65203 non-null  float64\n",
      "dtypes: float64(3), object(3)\n",
      "memory usage: 3.0+ MB\n"
     ]
    }
   ],
   "source": [
    "movie_reviews.info()"
   ]
  },
  {
   "cell_type": "code",
   "execution_count": 3,
   "metadata": {},
   "outputs": [
    {
     "name": "stdout",
     "output_type": "stream",
     "text": [
      "<class 'pandas.core.frame.DataFrame'>\n",
      "RangeIndex: 5455 entries, 0 to 5454\n",
      "Data columns (total 10 columns):\n",
      " #   Column        Non-Null Count  Dtype  \n",
      "---  ------        --------------  -----  \n",
      " 0   Title         5455 non-null   object \n",
      " 1   Year          5455 non-null   int64  \n",
      " 2   Duration      5455 non-null   object \n",
      " 3   MPAA          5353 non-null   object \n",
      " 4   Genres        5455 non-null   object \n",
      " 5   IMDb_Rating   5455 non-null   float64\n",
      " 6   Director      5432 non-null   object \n",
      " 7   Stars         5433 non-null   object \n",
      " 8   Plot_Summary  5432 non-null   object \n",
      " 9   Image_link    5455 non-null   object \n",
      "dtypes: float64(1), int64(1), object(8)\n",
      "memory usage: 426.3+ KB\n"
     ]
    }
   ],
   "source": [
    "movie_metadata.info()"
   ]
  },
  {
   "cell_type": "code",
   "execution_count": null,
   "metadata": {},
   "outputs": [],
   "source": [
    "# Bước 2: Làm sạch dữ liệu\n",
    "# Xử lý giá trị thiếu trong movie_reviews\n",
    "movie_reviews['Reviewer'].fillna('Unknown', inplace=True)\n",
    "movie_reviews['Rating'].fillna(movie_reviews['Rating'].mean(), inplace=True)\n",
    "movie_reviews['Review'].fillna('', inplace=True)\n",
    "movie_reviews['Likes'].fillna(0, inplace=True)\n",
    "movie_reviews['Dislikes'].fillna(0, inplace=True)\n",
    "\n",
    "# Xử lý giá trị thiếu trong movie_metadata\n",
    "movie_metadata.fillna({'MPAA': 'Unknown', 'Director': 'Unknown', 'Stars': 'Unknown', 'Plot_Summary': ''}, inplace=True)"
   ]
  },
  {
   "cell_type": "code",
   "execution_count": 9,
   "metadata": {},
   "outputs": [
    {
     "data": {
      "text/html": [
       "<div>\n",
       "<style scoped>\n",
       "    .dataframe tbody tr th:only-of-type {\n",
       "        vertical-align: middle;\n",
       "    }\n",
       "\n",
       "    .dataframe tbody tr th {\n",
       "        vertical-align: top;\n",
       "    }\n",
       "\n",
       "    .dataframe thead th {\n",
       "        text-align: right;\n",
       "    }\n",
       "</style>\n",
       "<table border=\"1\" class=\"dataframe\">\n",
       "  <thead>\n",
       "    <tr style=\"text-align: right;\">\n",
       "      <th></th>\n",
       "      <th>Movie</th>\n",
       "      <th>Reviewer</th>\n",
       "      <th>Rating</th>\n",
       "      <th>Review</th>\n",
       "      <th>Likes</th>\n",
       "      <th>Dislikes</th>\n",
       "      <th>Sentiment_Score</th>\n",
       "    </tr>\n",
       "  </thead>\n",
       "  <tbody>\n",
       "    <tr>\n",
       "      <th>0</th>\n",
       "      <td>Gladiator II</td>\n",
       "      <td>nicknocks</td>\n",
       "      <td>6.000000</td>\n",
       "      <td>There seems to be a trend these days when making follow ups to beloved classics that you need to add more. More characters! More action! But that doesn't always equal better. It's almost like filmmakers these days think we're stupid and want more of everything but all this does is sacrifice quality.\\n\\nWhat made the original such a classic was the relatively simple plot, a protagonist you cared about and action that felt earned and impactful.\\n\\nThis one is so overstuffed it feels rushed. The plot feels like a lazy retread of the first but I didn't care about any of the characters. Paul Mescal was so wooden it sounded like he was reading his lines. If this is how he acts, I really don't see what all the fuss is about with him. Am I missing something.\\n\\nThe action, while visually impressive, lacked impact. Some studio exec probably thought 'hmm there was only 1 exotic animal in the first film, we can do better! Let's add way more!'</td>\n",
       "      <td>438.0</td>\n",
       "      <td>71.0</td>\n",
       "      <td>0.4569</td>\n",
       "    </tr>\n",
       "    <tr>\n",
       "      <th>1</th>\n",
       "      <td>Gladiator II</td>\n",
       "      <td>kabirsattarshetty</td>\n",
       "      <td>6.000000</td>\n",
       "      <td>My main issue with this film is the total lack of gravitas from Paul Mescal. Russel Crow commanded respect, on screen his presence was immense and it was easy to believe he was a leader of men. Paul Mescal just doesn't have it. He tried to hard in his talisman speeches, but they had to be carried by the music instead of his command of the screen. Even his physical presence is underwhelming, he looked like a boy pretending to be a man. The emperors also lacked a sense of real danger and tyranny. Every time there was a flash back to the original I was reminded of how poor this film was in comparison. If you were hoping for a performance anywhere close to Russel Crowe or a Mel Gibson in Braveheart you will be sorely disappointed. Without the charisma and emotional gravitas of the leading man everything else fails to deliver. Paul Mascals character was very empty, he seemed like the generic man, nothing at all to distinguish him. This movie is a textbook example of how casting will make or break a movie.</td>\n",
       "      <td>593.0</td>\n",
       "      <td>115.0</td>\n",
       "      <td>-0.5330</td>\n",
       "    </tr>\n",
       "    <tr>\n",
       "      <th>2</th>\n",
       "      <td>Gladiator II</td>\n",
       "      <td>nb99</td>\n",
       "      <td>6.000000</td>\n",
       "      <td>I tried hard not to just compare #2 with #1 whilst watching it, but they make it so hard not to. This is very much a sequel, almost a remake. Flashbacks, similar scenes, same music - they constantly refer back to the first film. And so you end up comparing the new film with the epic film that was Gladiator, and of course it loses. But it's not all bad and still worth a watch.\\n\\nThe \"games\" in the Colosseum are superbly presented and yes, exotic animals and water battles were really fought there in Roman times. The twin Emperors are superbly crazy and although different to Commodus from #1, equally as dangerous. Connie Nielson provided the one bit of actor continuity from #1 and did a great job as the older but ever more influential Lucilla. I was initially disappointed with Paul Mescal's performance but in hindsight I now wonder if it's character rather than his performance that was disappointing. Hanno is no Maximus - no leader of men, no charismatic warrior - in fact he tells as much a number of times in the film. But maybe that's Scott's point this time? Even a simple soldier can achieve great things?\\n\\nSo that was the good. The bad is very simple - there's no epic in this film. Gladiator was full of epic - the battles, Maximus's irrepressible, charismatic character who was credible throughout as a natural leader of men. The emotional attachment to the characters, the epic quotes throughout. The final scene and theme tune. I get goosebumps just thinking about it right now. And Gladiator 2 has none of that. In fact at times it shamelessly tries to \"reuse\" some of the epic from #1.\\n\\nSo overall, as much as I tried to avoid simply comparing it to #1 they made that feat impossible, and sadly it falls well short by comparison. It's a watchable blockbuster movie but no threat to the crown of the original. It's probably a 6.5/10 for me.</td>\n",
       "      <td>554.0</td>\n",
       "      <td>109.0</td>\n",
       "      <td>-0.6072</td>\n",
       "    </tr>\n",
       "    <tr>\n",
       "      <th>3</th>\n",
       "      <td>Gladiator II</td>\n",
       "      <td>iemand-anders1</td>\n",
       "      <td>6.580292</td>\n",
       "      <td>Now as i watched the movie i truly tried to not hold it and compared it to the first one, but the movie borrows sooo much and put so many winks and easter eggs and cameo's its plain impossible not to compare.\\n\\nAnd yeah,alas, the first did absolutely everything, every single aspect better to much better and most definitely story/drama character wise.\\n\\nEven though tis definitely not the worst movie ever,this movie kind of symbolize the state of current Hollywood and how much it has declined over the last 2 decades. The fact so many people praising it confirms a bitter reality. Story and plot just don't matter or at least much less then it used to be, people are pleased when they see pretty pictures.\\n\\nThis movie definitely looks glorious and expensive and had a big grandeur, but it fails to me to have coherent driven plot, in the first movie every scene absolutely mattered, even during battles, characters spoke by their actions and where very consistent in how the character was portrayed.\\n\\nThis script ( from the same writer as that abominal napoleon movie) things feel random and forced.\\n\\nBattles feel so meh, nothing feels deserved or earned..\\n\\npity, acting was well though all where good to great acting performances wich makes it even more of a pity the story was so weak.</td>\n",
       "      <td>534.0</td>\n",
       "      <td>89.0</td>\n",
       "      <td>0.9907</td>\n",
       "    </tr>\n",
       "    <tr>\n",
       "      <th>4</th>\n",
       "      <td>Gladiator II</td>\n",
       "      <td>tomislavvlahek</td>\n",
       "      <td>6.000000</td>\n",
       "      <td>I tried hard not to just compare #2 with #1 whilst watching it, but they make it so hard not to. This is very much a sequel, almost a remake. Flashbacks, similar scenes, same music - they constantly refer back to the first film. And so you end up comparing the new film with the epic film that was Gladiator, and of course it loses. But it's not all bad and still worth a watch.\\n\\nThe \"games\" in the Colosseum are superbly presented and yes, exotic animals and water battles were really fought there in Roman times. The twin Emperors are superbly crazy and although different to Commodus from #1, equally as dangerous. Connie Nielson provided the one bit of actor continuity from #1 and did a great job as the older but ever more influential Lucilla. I was initially disappointed with Paul Mescal's performance but in hindsight I now wonder if it's character rather than his performance that was disappointing. Hanno is no Maximus - no leader of men, no charismatic warrior - in fact he tells as much a number of times in the film. But maybe that's Scott's point this time? Even a simple soldier can achieve great things?\\n\\nSo that was the good. The bad is very simple - there's no epic in this film. Gladiator was full of epic - the battles, Maximus's irrepressible, charismatic character who was credible throughout as a natural leader of men. The emotional attachment to the characters, the epic quotes throughout. The final scene and theme tune. I get goosebumps just thinking about it right now. And Gladiator 2 has none of that. In fact at times it shamelessly tries to \"reuse\" some of the epic from #1.\\n\\nSo overall, as much as I tried to avoid simply comparing it to #1 they made that feat impossible, and sadly it falls well short by comparison. It's a watchable blockbuster movie but no threat to the crown of the original. It's probably a 6.5/10 for me.</td>\n",
       "      <td>297.0</td>\n",
       "      <td>54.0</td>\n",
       "      <td>-0.6072</td>\n",
       "    </tr>\n",
       "  </tbody>\n",
       "</table>\n",
       "</div>"
      ],
      "text/plain": [
       "          Movie           Reviewer    Rating  \\\n",
       "0  Gladiator II          nicknocks  6.000000   \n",
       "1  Gladiator II  kabirsattarshetty  6.000000   \n",
       "2  Gladiator II               nb99  6.000000   \n",
       "3  Gladiator II     iemand-anders1  6.580292   \n",
       "4  Gladiator II     tomislavvlahek  6.000000   \n",
       "\n",
       "                                                                                                                                                                                                                                                                                                                                                                                                                                                                                                                                                                                                                                                                                                                                                                                                                                                                                                                                                                                                                                                                                                                                                                                                                                                                                                                                                                                                                                                                                                                                                                                                                                                                                                                                                                                                                                                                                                                                        Review  \\\n",
       "0                                                                                                                                                                                                                                                                                                                                                                                                                                                                                                                                                                                                                                                                                                                                                                                                                                                                                                                                                            There seems to be a trend these days when making follow ups to beloved classics that you need to add more. More characters! More action! But that doesn't always equal better. It's almost like filmmakers these days think we're stupid and want more of everything but all this does is sacrifice quality.\\n\\nWhat made the original such a classic was the relatively simple plot, a protagonist you cared about and action that felt earned and impactful.\\n\\nThis one is so overstuffed it feels rushed. The plot feels like a lazy retread of the first but I didn't care about any of the characters. Paul Mescal was so wooden it sounded like he was reading his lines. If this is how he acts, I really don't see what all the fuss is about with him. Am I missing something.\\n\\nThe action, while visually impressive, lacked impact. Some studio exec probably thought 'hmm there was only 1 exotic animal in the first film, we can do better! Let's add way more!'   \n",
       "1                                                                                                                                                                                                                                                                                                                                                                                                                                                                                                                                                                                                                                                                                                                                                                                                                                                                                      My main issue with this film is the total lack of gravitas from Paul Mescal. Russel Crow commanded respect, on screen his presence was immense and it was easy to believe he was a leader of men. Paul Mescal just doesn't have it. He tried to hard in his talisman speeches, but they had to be carried by the music instead of his command of the screen. Even his physical presence is underwhelming, he looked like a boy pretending to be a man. The emperors also lacked a sense of real danger and tyranny. Every time there was a flash back to the original I was reminded of how poor this film was in comparison. If you were hoping for a performance anywhere close to Russel Crowe or a Mel Gibson in Braveheart you will be sorely disappointed. Without the charisma and emotional gravitas of the leading man everything else fails to deliver. Paul Mascals character was very empty, he seemed like the generic man, nothing at all to distinguish him. This movie is a textbook example of how casting will make or break a movie.   \n",
       "2  I tried hard not to just compare #2 with #1 whilst watching it, but they make it so hard not to. This is very much a sequel, almost a remake. Flashbacks, similar scenes, same music - they constantly refer back to the first film. And so you end up comparing the new film with the epic film that was Gladiator, and of course it loses. But it's not all bad and still worth a watch.\\n\\nThe \"games\" in the Colosseum are superbly presented and yes, exotic animals and water battles were really fought there in Roman times. The twin Emperors are superbly crazy and although different to Commodus from #1, equally as dangerous. Connie Nielson provided the one bit of actor continuity from #1 and did a great job as the older but ever more influential Lucilla. I was initially disappointed with Paul Mescal's performance but in hindsight I now wonder if it's character rather than his performance that was disappointing. Hanno is no Maximus - no leader of men, no charismatic warrior - in fact he tells as much a number of times in the film. But maybe that's Scott's point this time? Even a simple soldier can achieve great things?\\n\\nSo that was the good. The bad is very simple - there's no epic in this film. Gladiator was full of epic - the battles, Maximus's irrepressible, charismatic character who was credible throughout as a natural leader of men. The emotional attachment to the characters, the epic quotes throughout. The final scene and theme tune. I get goosebumps just thinking about it right now. And Gladiator 2 has none of that. In fact at times it shamelessly tries to \"reuse\" some of the epic from #1.\\n\\nSo overall, as much as I tried to avoid simply comparing it to #1 they made that feat impossible, and sadly it falls well short by comparison. It's a watchable blockbuster movie but no threat to the crown of the original. It's probably a 6.5/10 for me.   \n",
       "3                                                                                                                                                                                                                                                                                                                                                                                                                                                                                                                                                                                         Now as i watched the movie i truly tried to not hold it and compared it to the first one, but the movie borrows sooo much and put so many winks and easter eggs and cameo's its plain impossible not to compare.\\n\\nAnd yeah,alas, the first did absolutely everything, every single aspect better to much better and most definitely story/drama character wise.\\n\\nEven though tis definitely not the worst movie ever,this movie kind of symbolize the state of current Hollywood and how much it has declined over the last 2 decades. The fact so many people praising it confirms a bitter reality. Story and plot just don't matter or at least much less then it used to be, people are pleased when they see pretty pictures.\\n\\nThis movie definitely looks glorious and expensive and had a big grandeur, but it fails to me to have coherent driven plot, in the first movie every scene absolutely mattered, even during battles, characters spoke by their actions and where very consistent in how the character was portrayed.\\n\\nThis script ( from the same writer as that abominal napoleon movie) things feel random and forced.\\n\\nBattles feel so meh, nothing feels deserved or earned..\\n\\npity, acting was well though all where good to great acting performances wich makes it even more of a pity the story was so weak.   \n",
       "4  I tried hard not to just compare #2 with #1 whilst watching it, but they make it so hard not to. This is very much a sequel, almost a remake. Flashbacks, similar scenes, same music - they constantly refer back to the first film. And so you end up comparing the new film with the epic film that was Gladiator, and of course it loses. But it's not all bad and still worth a watch.\\n\\nThe \"games\" in the Colosseum are superbly presented and yes, exotic animals and water battles were really fought there in Roman times. The twin Emperors are superbly crazy and although different to Commodus from #1, equally as dangerous. Connie Nielson provided the one bit of actor continuity from #1 and did a great job as the older but ever more influential Lucilla. I was initially disappointed with Paul Mescal's performance but in hindsight I now wonder if it's character rather than his performance that was disappointing. Hanno is no Maximus - no leader of men, no charismatic warrior - in fact he tells as much a number of times in the film. But maybe that's Scott's point this time? Even a simple soldier can achieve great things?\\n\\nSo that was the good. The bad is very simple - there's no epic in this film. Gladiator was full of epic - the battles, Maximus's irrepressible, charismatic character who was credible throughout as a natural leader of men. The emotional attachment to the characters, the epic quotes throughout. The final scene and theme tune. I get goosebumps just thinking about it right now. And Gladiator 2 has none of that. In fact at times it shamelessly tries to \"reuse\" some of the epic from #1.\\n\\nSo overall, as much as I tried to avoid simply comparing it to #1 they made that feat impossible, and sadly it falls well short by comparison. It's a watchable blockbuster movie but no threat to the crown of the original. It's probably a 6.5/10 for me.   \n",
       "\n",
       "   Likes  Dislikes  Sentiment_Score  \n",
       "0  438.0      71.0           0.4569  \n",
       "1  593.0     115.0          -0.5330  \n",
       "2  554.0     109.0          -0.6072  \n",
       "3  534.0      89.0           0.9907  \n",
       "4  297.0      54.0          -0.6072  "
      ]
     },
     "execution_count": 9,
     "metadata": {},
     "output_type": "execute_result"
    }
   ],
   "source": [
    "pd.set_option('display.max_colwidth', None)\n",
    "movie_reviews.head()"
   ]
  },
  {
   "cell_type": "code",
   "execution_count": null,
   "metadata": {},
   "outputs": [],
   "source": [
    "# Xuất dữ liệu đã qua xử lý\n",
    "movie_reviews.to_csv('cleaned_movie_reviews.csv', index=False)\n",
    "movie_metadata.to_csv('cleaned_movie_metadata.csv', index=False)"
   ]
  }
 ],
 "metadata": {
  "kernelspec": {
   "display_name": "Python 3.9.2rc1 64-bit",
   "language": "python",
   "name": "python3"
  },
  "language_info": {
   "codemirror_mode": {
    "name": "ipython",
    "version": 3
   },
   "file_extension": ".py",
   "mimetype": "text/x-python",
   "name": "python",
   "nbconvert_exporter": "python",
   "pygments_lexer": "ipython3",
   "version": "3.9.2"
  },
  "orig_nbformat": 4,
  "vscode": {
   "interpreter": {
    "hash": "11938c6bc6919ae2720b4d5011047913343b08a43b18698fd82dedb0d4417594"
   }
  }
 },
 "nbformat": 4,
 "nbformat_minor": 2
}
